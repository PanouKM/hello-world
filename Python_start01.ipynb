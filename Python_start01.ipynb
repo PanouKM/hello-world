{
  "nbformat": 4,
  "nbformat_minor": 0,
  "metadata": {
    "colab": {
      "provenance": [],
      "authorship_tag": "ABX9TyOn4OhQrdRr2dLkI2BCuc3+",
      "include_colab_link": true
    },
    "kernelspec": {
      "name": "python3",
      "display_name": "Python 3"
    },
    "language_info": {
      "name": "python"
    }
  },
  "cells": [
    {
      "cell_type": "markdown",
      "metadata": {
        "id": "view-in-github",
        "colab_type": "text"
      },
      "source": [
        "<a href=\"https://colab.research.google.com/github/PanouKM/hello-world/blob/main/Python_start01.ipynb\" target=\"_parent\"><img src=\"https://colab.research.google.com/assets/colab-badge.svg\" alt=\"Open In Colab\"/></a>"
      ]
    },
    {
      "cell_type": "code",
      "source": [
        "del print\n",
        "name = 'kika'\n",
        "print('hello,' + name + '!')\n",
        "\n"
      ],
      "metadata": {
        "colab": {
          "base_uri": "https://localhost:8080/",
          "height": 227
        },
        "id": "eL7X8eErLnxi",
        "outputId": "b69e2538-103a-4200-9592-85126ab1822d"
      },
      "execution_count": null,
      "outputs": [
        {
          "output_type": "error",
          "ename": "NameError",
          "evalue": "ignored",
          "traceback": [
            "\u001b[0;31m---------------------------------------------------------------------------\u001b[0m",
            "\u001b[0;31mNameError\u001b[0m                                 Traceback (most recent call last)",
            "\u001b[0;32m<ipython-input-32-a7e6279b1939>\u001b[0m in \u001b[0;36m<cell line: 1>\u001b[0;34m()\u001b[0m\n\u001b[0;32m----> 1\u001b[0;31m \u001b[0;32mdel\u001b[0m \u001b[0mprint\u001b[0m\u001b[0;34m\u001b[0m\u001b[0;34m\u001b[0m\u001b[0m\n\u001b[0m\u001b[1;32m      2\u001b[0m \u001b[0mname\u001b[0m \u001b[0;34m=\u001b[0m \u001b[0;34m'kika'\u001b[0m\u001b[0;34m\u001b[0m\u001b[0;34m\u001b[0m\u001b[0m\n\u001b[1;32m      3\u001b[0m \u001b[0mprint\u001b[0m\u001b[0;34m(\u001b[0m\u001b[0;34m'hello,'\u001b[0m \u001b[0;34m+\u001b[0m \u001b[0mname\u001b[0m \u001b[0;34m+\u001b[0m \u001b[0;34m'!'\u001b[0m\u001b[0;34m)\u001b[0m\u001b[0;34m\u001b[0m\u001b[0;34m\u001b[0m\u001b[0m\n\u001b[1;32m      4\u001b[0m \u001b[0;34m\u001b[0m\u001b[0m\n",
            "\u001b[0;31mNameError\u001b[0m: name 'print' is not defined"
          ]
        }
      ]
    },
    {
      "cell_type": "code",
      "source": [
        "name = 'kika'\n",
        "#the + operator is used to concatenate the strings\n",
        "print ('hello,' + name + '!')"
      ],
      "metadata": {
        "colab": {
          "base_uri": "https://localhost:8080/"
        },
        "id": "Xsx3m6E_NDud",
        "outputId": "61e5f495-71cf-44d4-85d0-e3c236cb967a"
      },
      "execution_count": null,
      "outputs": [
        {
          "output_type": "stream",
          "name": "stdout",
          "text": [
            "hello,kika!\n"
          ]
        }
      ]
    },
    {
      "cell_type": "code",
      "source": [
        "user_name = input(\"What's your name?\")\n",
        "\n",
        "print(\"Hello,\" + user_name + \"!\")\n",
        "\n"
      ],
      "metadata": {
        "colab": {
          "base_uri": "https://localhost:8080/"
        },
        "id": "oiNfEsZ4N2HK",
        "outputId": "0a703f3e-58f6-444b-b517-563a2f176d21"
      },
      "execution_count": null,
      "outputs": [
        {
          "output_type": "stream",
          "name": "stdout",
          "text": [
            "What's your name?nick\n",
            "Hello,nick!\n"
          ]
        }
      ]
    },
    {
      "cell_type": "code",
      "source": [
        "name = \"chris\""
      ],
      "metadata": {
        "id": "bAmqlFMAQv1-"
      },
      "execution_count": null,
      "outputs": []
    },
    {
      "cell_type": "code",
      "source": [
        "print (\"hello \" + name + \"!\")"
      ],
      "metadata": {
        "colab": {
          "base_uri": "https://localhost:8080/"
        },
        "id": "t82W9mIoQ5H1",
        "outputId": "3157372a-94c2-4302-a1e8-76ab250a2fb8"
      },
      "execution_count": null,
      "outputs": [
        {
          "output_type": "stream",
          "name": "stdout",
          "text": [
            "hello chris!\n"
          ]
        }
      ]
    },
    {
      "cell_type": "code",
      "source": [
        "print ('Hello, ' + user_name + \"!\")"
      ],
      "metadata": {
        "colab": {
          "base_uri": "https://localhost:8080/"
        },
        "id": "awlnTKJNQ_et",
        "outputId": "f2b28612-a10a-4772-87b3-4e6c9ed5217e"
      },
      "execution_count": null,
      "outputs": [
        {
          "output_type": "stream",
          "name": "stdout",
          "text": [
            "Hello, nick!\n"
          ]
        }
      ]
    },
    {
      "cell_type": "code",
      "source": [
        "user_age = input(\"What's your age? \")\n",
        "print (\"You are \" + user_age + \" years old\")"
      ],
      "metadata": {
        "colab": {
          "base_uri": "https://localhost:8080/"
        },
        "id": "k44KjfzARQ1y",
        "outputId": "93eee289-3d4d-4f3d-dd8b-f194220ec141"
      },
      "execution_count": null,
      "outputs": [
        {
          "output_type": "stream",
          "name": "stdout",
          "text": [
            "What's your age? 6\n",
            "You are 6 years old\n"
          ]
        }
      ]
    },
    {
      "cell_type": "code",
      "source": [
        "child_name = input(\"Whats your name? \")\n",
        "child_age  = input(\"Wghat's your age? \")\n",
        "fav_color = input(\"which is your favorite color? \")\n",
        "\n",
        "print(\"Hello,\" + child_name + \"!\")\n",
        "print(\"Your age is \" + child_age +\".\")\n",
        "print(\"your favorite color is \" + fav_color + \".\")\n"
      ],
      "metadata": {
        "colab": {
          "base_uri": "https://localhost:8080/"
        },
        "id": "hovgoF8iSb7q",
        "outputId": "0071cb5e-211a-49ae-ae91-c317b37b5805"
      },
      "execution_count": null,
      "outputs": [
        {
          "output_type": "stream",
          "name": "stdout",
          "text": [
            "Whats your name? mike\n",
            "Wghat's your age? 8\n",
            "which is your favorite color? red\n",
            "Hello,mike!\n",
            "Your age is 8.\n",
            "your favorite color is red.\n"
          ]
        }
      ]
    }
  ]
}